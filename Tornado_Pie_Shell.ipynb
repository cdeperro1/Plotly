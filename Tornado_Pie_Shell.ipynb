{
 "cells": [
  {
   "cell_type": "markdown",
   "id": "58330c66-8691-4414-a5c7-f137f96a3cd1",
   "metadata": {},
   "source": [
    "Import \"2020-2024_tornado.csv\" data into a DataFrame."
   ]
  },
  {
   "cell_type": "code",
   "execution_count": null,
   "id": "bc0b474d-0871-449f-a6eb-f60ab2e45d66",
   "metadata": {},
   "outputs": [],
   "source": [
    "import pandas as pd\n",
    "\n",
    "df = pd.read_csv('')\n",
    "print(df.head())"
   ]
  },
  {
   "cell_type": "markdown",
   "id": "37056262-f111-418a-bbe1-622d487a65b3",
   "metadata": {},
   "source": [
    "Next let's import Plotly Express."
   ]
  },
  {
   "cell_type": "code",
   "execution_count": null,
   "id": "25016755-0144-40d1-afb0-501749e0bf0d",
   "metadata": {},
   "outputs": [],
   "source": []
  },
  {
   "cell_type": "markdown",
   "id": "5a4c241a-cfe9-452f-ae64-9b92b7dfae90",
   "metadata": {},
   "source": [
    "Let's filter the 2020-2024 tornado csv data to 2024 only.  "
   ]
  },
  {
   "cell_type": "code",
   "execution_count": null,
   "id": "c0941eb9-534a-42c5-9238-0ad216cad8f2",
   "metadata": {},
   "outputs": [],
   "source": [
    "df_filtered = df[(df[''] == )]"
   ]
  },
  {
   "cell_type": "raw",
   "id": "28be28ce-b56e-4412-8c6d-b34f5cf4856b",
   "metadata": {},
   "source": [
    "After filtering the data to the specific year, we can now accurately count the total number of tornados that occurred and identify what their respective magnitudes were. Since our data is categorical, we can create a new DataFrame to group the data we need and then simply add a new column called 'count'. This will count the number of tornados listed for that given row (which should be 1 for each row). "
   ]
  },
  {
   "cell_type": "code",
   "execution_count": null,
   "id": "c63b8453-c8e3-462d-a3a9-18c27f64992f",
   "metadata": {},
   "outputs": [],
   "source": [
    "magnitude_counts = df_filtered.groupby().size().reset_index()"
   ]
  },
  {
   "cell_type": "markdown",
   "id": "59a61287-2d55-4a62-8e27-b37e303efd26",
   "metadata": {},
   "source": [
    "Now we want to pull in the magnitude information against the total tornados we counted. The \"magnitude\" column provides categorical data, so we need to specify this as categorical information. "
   ]
  },
  {
   "cell_type": "code",
   "execution_count": null,
   "id": "5d6c7983-29e5-49a5-b655-33d34a0ceff9",
   "metadata": {},
   "outputs": [],
   "source": [
    "categories = []\n",
    "magnitude_counts[] = pd.Categorical(magnitude_counts[], categories=categories, ordered=)"
   ]
  },
  {
   "cell_type": "markdown",
   "id": "d8021b97-3dbe-4ee1-9d47-b9ae4cbb6161",
   "metadata": {},
   "source": [
    "Let's create a pie chart to visualize the distribution of the various tornado magnitudes in 2024. "
   ]
  },
  {
   "cell_type": "code",
   "execution_count": null,
   "id": "47384d76-c54f-4d9f-a02f-af01af234a77",
   "metadata": {},
   "outputs": [],
   "source": [
    "fig = px.pie(\n",
    "    \n",
    "    names= \n",
    "    values=\n",
    "    title=\n",
    "    labels={}\n",
    ")"
   ]
  },
  {
   "cell_type": "markdown",
   "id": "74c8f7b4-0f69-4a6e-a774-7cec8318d4d4",
   "metadata": {},
   "source": [
    "When you hover over the pie chart slices, a label will pop up and display the tornado magnitude and its total count."
   ]
  }
 ],
 "metadata": {
  "kernelspec": {
   "display_name": "Python 3 (ipykernel)",
   "language": "python",
   "name": "python3"
  },
  "language_info": {
   "codemirror_mode": {
    "name": "ipython",
    "version": 3
   },
   "file_extension": ".py",
   "mimetype": "text/x-python",
   "name": "python",
   "nbconvert_exporter": "python",
   "pygments_lexer": "ipython3",
   "version": "3.12.4"
  }
 },
 "nbformat": 4,
 "nbformat_minor": 5
}
